{
 "cells": [
  {
   "cell_type": "code",
   "execution_count": 1,
   "metadata": {},
   "outputs": [],
   "source": [
    "# YOLO for 2D luggage box detection"
   ]
  },
  {
   "cell_type": "code",
   "execution_count": 35,
   "metadata": {},
   "outputs": [
    {
     "name": "stdout",
     "output_type": "stream",
     "text": [
      "\n",
      "image 1/1 c:\\Users\\Administrator\\Desktop\\3DLuggageDetetcion\\3DluggageDetect\\3.jpg: 480x640 1 suitcase, 188.2ms\n",
      "Speed: 2.0ms preprocess, 188.2ms inference, 1.1ms postprocess per image at shape (1, 3, 480, 640)\n"
     ]
    }
   ],
   "source": [
    "from ultralytics import YOLO\n",
    "import cv2\n",
    "\n",
    "# Load a model\n",
    "model = YOLO(\"yolo11s.pt\")  # load an official model\n",
    "# model = YOLO(\"path/to/best.pt\")  # load a custom model\n",
    "img_path = '3.jpg'\n",
    "# Predict with the model\n",
    "results = model(img_path, conf = 0.1)  # predict on an image\n",
    "# 提取框的坐标\n",
    "boxes = results[0].boxes.xyxy.cpu().numpy()  # 提取 xyxy 坐标\n",
    "\n",
    "\n",
    "# 如果有框，保留面积最大的框\n",
    "if len(boxes) > 0:\n",
    "    # 计算每个框的面积：面积 = (x2 - x1) * (y2 - y1)\n",
    "    areas = [(box[2] - box[0]) * (box[3] - box[1]) for box in boxes]\n",
    "    max_idx = areas.index(max(areas))  # 找到最大面积的索引\n",
    "    largest_box = boxes[max_idx]  # 最大的框\n",
    "\n",
    "    # 加载原始图像\n",
    "    img = cv2.imread(img_path)\n",
    "    \n",
    "    # 绘制最大框\n",
    "    x1, y1, x2, y2 = map(int, largest_box)\n",
    "    cv2.rectangle(img, (x1, y1), (x2, y2), (0, 255, 0), 2)  # 绿色框，线宽2\n",
    "\n",
    "    # 显示图像\n",
    "    cv2.imshow(\"Largest Box\", img)\n",
    "    cv2.waitKey(0)\n",
    "    cv2.destroyAllWindows()\n",
    "    # 保存图像\n",
    "    cv2.imwrite(\"box.jpg\" + img_path, img)\n",
    "\n",
    "else:\n",
    "    print(\"未检测到任何框！\")"
   ]
  },
  {
   "cell_type": "code",
   "execution_count": 20,
   "metadata": {},
   "outputs": [
    {
     "name": "stdout",
     "output_type": "stream",
     "text": [
      "ultralytics.engine.results.Boxes object with attributes:\n",
      "\n",
      "cls: tensor([28.])\n",
      "conf: tensor([0.3613])\n",
      "data: tensor([[ 82.8514,  76.1576, 242.2824, 150.8749,   0.3613,  28.0000]])\n",
      "id: None\n",
      "is_track: False\n",
      "orig_shape: (192, 256)\n",
      "shape: torch.Size([1, 6])\n",
      "xywh: tensor([[162.5669, 113.5162, 159.4311,  74.7173]])\n",
      "xywhn: tensor([[0.6350, 0.5912, 0.6228, 0.3892]])\n",
      "xyxy: tensor([[ 82.8514,  76.1576, 242.2824, 150.8749]])\n",
      "xyxyn: tensor([[0.3236, 0.3967, 0.9464, 0.7858]])\n"
     ]
    }
   ],
   "source": [
    "print(results[0].boxes)"
   ]
  },
  {
   "cell_type": "code",
   "execution_count": 1,
   "metadata": {},
   "outputs": [],
   "source": [
    "from ultralytics import YOLO\n",
    "import cv2\n",
    "\n",
    "# 加载模型\n",
    "model = YOLO(\"yolo11s.pt\")\n",
    "\n",
    "# 预测图像\n",
    "results = model(\"IDS_CAM7_6B_POS1__VI__1569846775.jpg\")  # 替换为你的图像路径\n",
    "\n"
   ]
  },
  {
   "cell_type": "code",
   "execution_count": null,
   "metadata": {},
   "outputs": [],
   "source": [
    "# 提取检测框\n",
    "boxes = results[0].boxes  # 获取第一个图像的检测框\n",
    "img = cv2.imread(\"IDS_CAM7_6B_POS1__VI__1569846775.jpg\")  # 加载原始图像\n",
    "\n",
    "# 筛选行李类别（假设类别编号为 28，需根据模型类别设置）\n",
    "target_class = 28  # 替换为实际的行李类别编号\n",
    "for box in boxes:\n",
    "    # 提取框坐标和类别\n",
    "    x1, y1, x2, y2 = map(int, box.xyxy[0])  # 左上角 (x1, y1) 和右下角 (x2, y2)\n",
    "    cls = int(box.cls[0])  # 类别编号\n",
    "    conf = box.conf[0]  # 置信度\n",
    "\n",
    "    # 如果类别是行李，绘制框\n",
    "    if cls == target_class:\n",
    "        cv2.rectangle(img, (x1, y1), (x2, y2), (0, 255, 0), 2)  # 绘制绿色矩形框\n",
    "        label = f\"Luggage {conf:.2f}\"\n",
    "        cv2.putText(img, label, (x1, y1 - 10), cv2.FONT_HERSHEY_SIMPLEX, 0.5, (0, 255, 0), 2)\n",
    "\n",
    "# 保存或显示结果\n",
    "cv2.imshow(\"Luggage Detection\", img)\n",
    "cv2.waitKey(0)\n",
    "cv2.destroyAllWindows()\n"
   ]
  },
  {
   "cell_type": "code",
   "execution_count": null,
   "metadata": {},
   "outputs": [],
   "source": []
  },
  {
   "cell_type": "code",
   "execution_count": null,
   "metadata": {},
   "outputs": [],
   "source": []
  },
  {
   "cell_type": "code",
   "execution_count": 1,
   "metadata": {},
   "outputs": [],
   "source": [
    "from ultralytics import YOLO\n",
    "import cv2\n",
    "import matplotlib.pyplot as plt\n",
    "\n",
    "# 加载 YOLOv8 模型\n",
    "def load_yolo_model(weights_path):\n",
    "    model = YOLO(weights_path)\n",
    "    return model\n",
    "\n",
    "# 进行检测并绘制框\n",
    "def detect_and_draw(image_path, model, save_path=None):\n",
    "    # 加载图片\n",
    "    results = model(image_path, conf=0.5)  # 设置置信度阈值\n",
    "    annotated_image = results[0].plot()  # 获取绘制框的图片\n",
    "    \n",
    "    # 显示图片\n",
    "    plt.imshow(cv2.cvtColor(annotated_image, cv2.COLOR_BGR2RGB))\n",
    "    plt.axis('off')\n",
    "    plt.show()\n",
    "\n",
    "    # 保存图片\n",
    "    if save_path:\n",
    "        cv2.imwrite(save_path, annotated_image)\n",
    "        print(f\"Saved annotated image to {save_path}\")\n",
    "\n",
    "# 主流程\n",
    "def main():\n",
    "    weights_path = \"yolov11n.pt\"  # 替换为你的权重文件路径\n",
    "    image_path = \"IDS_CAM7_6B_POS1__VI__1569846775.jpg\"  # 替换为测试图片路径\n",
    "    save_path = \"result.jpg\"  # 保存结果的路径（可选）\n",
    "\n",
    "    # 加载模型\n",
    "    model = load_yolo_model(weights_path)\n",
    "\n",
    "    # 检测并绘制\n",
    "    detect_and_draw(image_path, model, save_path)\n",
    "\n",
    "if __name__ == \"__main__\":\n",
    "    main()\n"
   ]
  },
  {
   "cell_type": "code",
   "execution_count": null,
   "metadata": {},
   "outputs": [],
   "source": [
    "import torch\n",
    "import torchvision.transforms as T\n",
    "from PIL import Image\n",
    "import cv2\n",
    "import matplotlib.pyplot as plt\n",
    "\n",
    "# 加载模型\n",
    "def load_model(weights_path):\n",
    "    # 假设使用的是 torchvision 提供的 Faster R-CNN\n",
    "    model = torchvision.models.detection.fasterrcnn_resnet50_fpn(pretrained=False)\n",
    "    num_classes = 2  # 修改为你模型的类别数（例如背景 + 行李 = 2）\n",
    "    in_features = model.roi_heads.box_predictor.cls_score.in_features\n",
    "    model.roi_heads.box_predictor = torchvision.models.detection.faster_rcnn.FastRCNNPredictor(in_features, num_classes)\n",
    "    model.load_state_dict(torch.load(weights_path))\n",
    "    model.eval()  # 切换为评估模式\n",
    "    return model\n",
    "\n",
    "# 加载图片并预处理\n",
    "def load_image(image_path):\n",
    "    image = Image.open(image_path).convert(\"RGB\")\n",
    "    transform = T.Compose([\n",
    "        T.ToTensor(),\n",
    "    ])\n",
    "    return transform(image).unsqueeze(0)  # 增加batch维度\n",
    "\n",
    "# 在图片上绘制框\n",
    "def draw_boxes(image_path, predictions, threshold=0.5):\n",
    "    image = cv2.imread(image_path)\n",
    "    image = cv2.cvtColor(image, cv2.COLOR_BGR2RGB)\n",
    "    for box, score in zip(predictions['boxes'], predictions['scores']):\n",
    "        if score > threshold:\n",
    "            x1, y1, x2, y2 = box.int().numpy()\n",
    "            cv2.rectangle(image, (x1, y1), (x2, y2), (0, 255, 0), 2)\n",
    "            cv2.putText(image, f\"{score:.2f}\", (x1, y1 - 10), cv2.FONT_HERSHEY_SIMPLEX, 0.5, (0, 255, 0), 2)\n",
    "    plt.imshow(image)\n",
    "    plt.axis(\"off\")\n",
    "    plt.show()\n",
    "\n",
    "# 主流程\n",
    "def main():\n",
    "    weights_path = \"path/to/your/weights.pth\"  # 替换为你的权重文件路径\n",
    "    image_path = \"path/to/your/image.jpg\"  # 替换为测试图片路径\n",
    "\n",
    "    # 加载模型和图片\n",
    "    model = load_model(weights_path)\n",
    "    image_tensor = load_image(image_path)\n",
    "\n",
    "    # 进行预测\n",
    "    with torch.no_grad():\n",
    "        predictions = model(image_tensor)[0]\n",
    "\n",
    "    # 绘制预测结果\n",
    "    draw_boxes(image_path, predictions)\n",
    "\n",
    "if __name__ == \"__main__\":\n",
    "    main()\n"
   ]
  },
  {
   "cell_type": "code",
   "execution_count": null,
   "metadata": {},
   "outputs": [],
   "source": []
  },
  {
   "cell_type": "code",
   "execution_count": 1,
   "metadata": {},
   "outputs": [],
   "source": [
    "from ultralytics import YOLO\n",
    "import cv2\n",
    "# Load a model\n",
    "model = YOLO(\"yolo11n.pt\")  # load an official model\n",
    "# model = YOLO(\"path/to/best.pt\")  # load a custom model\n",
    "\n",
    "# Predict with the model\n",
    "results = model(\"https://ultralytics.com/images/boats.jpg\")  # predict on an image\n",
    "res = results[0].plot()\n",
    "cv2.imshow(\"res\", res)\n",
    "cv2.waitKey(0)"
   ]
  },
  {
   "cell_type": "code",
   "execution_count": 1,
   "metadata": {},
   "outputs": [],
   "source": [
    "from ultralytics import YOLO"
   ]
  },
  {
   "cell_type": "code",
   "execution_count": null,
   "metadata": {},
   "outputs": [],
   "source": []
  }
 ],
 "metadata": {
  "kernelspec": {
   "display_name": "Python 3",
   "language": "python",
   "name": "python3"
  },
  "language_info": {
   "codemirror_mode": {
    "name": "ipython",
    "version": 3
   },
   "file_extension": ".py",
   "mimetype": "text/x-python",
   "name": "python",
   "nbconvert_exporter": "python",
   "pygments_lexer": "ipython3",
   "version": "3.10.15"
  }
 },
 "nbformat": 4,
 "nbformat_minor": 2
}
